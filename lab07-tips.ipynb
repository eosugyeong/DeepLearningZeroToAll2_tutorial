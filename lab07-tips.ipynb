{
 "cells": [
  {
   "cell_type": "code",
   "execution_count": 1,
   "metadata": {},
   "outputs": [],
   "source": [
    "import torch\n",
    "import torch.nn as nn\n",
    "import torch.nn.functional as F\n",
    "import torch.optim as optim"
   ]
  },
  {
   "cell_type": "markdown",
   "metadata": {},
   "source": [
    "### training, learning rate"
   ]
  },
  {
   "cell_type": "code",
   "execution_count": 4,
   "metadata": {},
   "outputs": [],
   "source": [
    "torch.manual_seed(1)\n",
    "\n",
    "x_train = [[1,2,1],\n",
    "          [1,3,2],\n",
    "          [1,3,4],\n",
    "          [1,5,5],\n",
    "          [1,7,5],\n",
    "          [1,2,5],\n",
    "          [1,6,6],\n",
    "          [1,7,7]]\n",
    "y_train = [2,2,2,1,1,1,0,0]\n",
    "\n",
    "x_train = torch.FloatTensor(x_train) #x_train = (m,3)\n",
    "y_train = torch.LongTensor(y_train) #y_train = (m,)\n",
    "\n",
    "x_test = torch.FloatTensor([[2,1,1], [3,1,2], [3,3,4]]) #x_test = (m,3)\n",
    "y_test = torch.LongTensor([2,2,2]) #y_test = (m,)"
   ]
  },
  {
   "cell_type": "code",
   "execution_count": 10,
   "metadata": {},
   "outputs": [
    {
     "name": "stdout",
     "output_type": "stream",
     "text": [
      "Epoch    0/20 Cost: 2.382223\n",
      "Epoch    1/20 Cost: 1.049989\n",
      "Epoch    2/20 Cost: 1.004628\n",
      "Epoch    3/20 Cost: 0.997236\n",
      "Epoch    4/20 Cost: 0.990571\n",
      "Epoch    5/20 Cost: 0.984154\n",
      "Epoch    6/20 Cost: 0.977902\n",
      "Epoch    7/20 Cost: 0.971787\n",
      "Epoch    8/20 Cost: 0.965791\n",
      "Epoch    9/20 Cost: 0.959904\n",
      "Epoch   10/20 Cost: 0.954120\n",
      "Epoch   11/20 Cost: 0.948436\n",
      "Epoch   12/20 Cost: 0.942850\n",
      "Epoch   13/20 Cost: 0.937359\n",
      "Epoch   14/20 Cost: 0.931960\n",
      "Epoch   15/20 Cost: 0.926654\n",
      "Epoch   16/20 Cost: 0.921437\n",
      "Epoch   17/20 Cost: 0.916309\n",
      "Epoch   18/20 Cost: 0.911268\n",
      "Epoch   19/20 Cost: 0.906312\n",
      "Epoch   20/20 Cost: 0.901440\n"
     ]
    }
   ],
   "source": [
    "class SoftmaxClassifierModel(nn.Module): #nn.Module을 상속받음\n",
    "    def __init__(self):\n",
    "        super().__init__()\n",
    "        self.linear = nn.Linear(3,3)\n",
    "    \n",
    "    def forward(self, x):\n",
    "        return self.linear(x) #x = (m, 3) -> (m, 3)\n",
    "\n",
    "model = SoftmaxClassifierModel()\n",
    "optimizer = optim.SGD(model.parameters(), lr = 0.1)\n",
    "\n",
    "def train(model, optimizer, x_train, y_train):\n",
    "    nb_epochs = 20\n",
    "    for epoch in range(nb_epochs + 1):\n",
    "        \n",
    "        prediction = model(x_train)\n",
    "        cost = F.cross_entropy(prediction, y_train)\n",
    "        \n",
    "        optimizer.zero_grad()\n",
    "        cost.backward()\n",
    "        optimizer.step()\n",
    "        \n",
    "        print('Epoch {:4d}/{} Cost: {:.6f}'.format(\n",
    "        epoch, nb_epochs, cost.item()))\n",
    "\n",
    "def test(model, optimizer, x_test, y_test):\n",
    "    prediction = model(x_test)\n",
    "    predicted_classes = prediction.max(1)[1]\n",
    "    correct_count = (predicted_classes == y_test).sum().item()\n",
    "    cost = F.cross_entropy(prediction, y_test)\n",
    "    \n",
    "    print('Accuracy: {}% Cost {:6f}'.format(\n",
    "    correct_count/len(y_test) * 100, cost.item()))\n",
    "\n",
    "train(model, optimizer, x_train, y_train)"
   ]
  },
  {
   "cell_type": "code",
   "execution_count": 11,
   "metadata": {},
   "outputs": [
    {
     "name": "stdout",
     "output_type": "stream",
     "text": [
      "Accuracy: 0.0% Cost 1.220628\n"
     ]
    }
   ],
   "source": [
    "test(model, optimizer, x_test, y_test)\n",
    "#이미 overfitting된 상태임."
   ]
  },
  {
   "cell_type": "code",
   "execution_count": 12,
   "metadata": {},
   "outputs": [
    {
     "name": "stdout",
     "output_type": "stream",
     "text": [
      "Epoch    0/20 Cost: 1.609761\n",
      "Epoch    1/20 Cost: 1021978.125000\n",
      "Epoch    2/20 Cost: 1689951.000000\n",
      "Epoch    3/20 Cost: 1358893.250000\n",
      "Epoch    4/20 Cost: 1308616.500000\n",
      "Epoch    5/20 Cost: 922955.750000\n",
      "Epoch    6/20 Cost: 1207138.500000\n",
      "Epoch    7/20 Cost: 1430491.500000\n",
      "Epoch    8/20 Cost: 1612018.250000\n",
      "Epoch    9/20 Cost: 616429.000000\n",
      "Epoch   10/20 Cost: 1189680.000000\n",
      "Epoch   11/20 Cost: 1439951.000000\n",
      "Epoch   12/20 Cost: 707054.000000\n",
      "Epoch   13/20 Cost: 2022955.750000\n",
      "Epoch   14/20 Cost: 52230.746094\n",
      "Epoch   15/20 Cost: 792968.437500\n",
      "Epoch   16/20 Cost: 814951.000000\n",
      "Epoch   17/20 Cost: 1214866.500000\n",
      "Epoch   18/20 Cost: 1844830.750000\n",
      "Epoch   19/20 Cost: 428228.125000\n",
      "Epoch   20/20 Cost: 1389680.000000\n"
     ]
    }
   ],
   "source": [
    "model = SoftmaxClassifierModel()\n",
    "optimizer = optim.SGD(model.parameters(), lr = 1e5)\n",
    "train(model, optimizer, x_train, y_train)\n",
    "#learning rate를 조절해가면서 학습을 시킨다.\n",
    "'''\n",
    "learning rate가 '큰' 경우: 발산\n",
    "learning rate가 '작은' 경우: 숫자가 줄어들지 않음\n",
    "\n",
    "따라서 적절한 숫자로 시작해 발산하면 '작게',\n",
    "cost가 줄어들지 않으면 '크게' 조정하자\n",
    "'''"
   ]
  },
  {
   "cell_type": "code",
   "execution_count": 13,
   "metadata": {},
   "outputs": [
    {
     "name": "stdout",
     "output_type": "stream",
     "text": [
      "Epoch    0/20 Cost: 2.395043\n",
      "Epoch    1/20 Cost: 2.395043\n",
      "Epoch    2/20 Cost: 2.395043\n",
      "Epoch    3/20 Cost: 2.395043\n",
      "Epoch    4/20 Cost: 2.395043\n",
      "Epoch    5/20 Cost: 2.395043\n",
      "Epoch    6/20 Cost: 2.395043\n",
      "Epoch    7/20 Cost: 2.395043\n",
      "Epoch    8/20 Cost: 2.395043\n",
      "Epoch    9/20 Cost: 2.395043\n",
      "Epoch   10/20 Cost: 2.395043\n",
      "Epoch   11/20 Cost: 2.395043\n",
      "Epoch   12/20 Cost: 2.395043\n",
      "Epoch   13/20 Cost: 2.395043\n",
      "Epoch   14/20 Cost: 2.395043\n",
      "Epoch   15/20 Cost: 2.395043\n",
      "Epoch   16/20 Cost: 2.395043\n",
      "Epoch   17/20 Cost: 2.395043\n",
      "Epoch   18/20 Cost: 2.395043\n",
      "Epoch   19/20 Cost: 2.395043\n",
      "Epoch   20/20 Cost: 2.395043\n"
     ]
    }
   ],
   "source": [
    "model = SoftmaxClassifierModel()\n",
    "optimizer = optim.SGD(model.parameters(), lr = 1e-10)\n",
    "\n",
    "train(model, optimizer, x_train, y_train)"
   ]
  },
  {
   "cell_type": "code",
   "execution_count": 20,
   "metadata": {},
   "outputs": [
    {
     "name": "stdout",
     "output_type": "stream",
     "text": [
      "Epoch    0/20 Cost: 1.472468\n",
      "Epoch    1/20 Cost: 1.006685\n",
      "Epoch    2/20 Cost: 0.999689\n",
      "Epoch    3/20 Cost: 0.993457\n",
      "Epoch    4/20 Cost: 0.987369\n",
      "Epoch    5/20 Cost: 0.981413\n",
      "Epoch    6/20 Cost: 0.975580\n",
      "Epoch    7/20 Cost: 0.969864\n",
      "Epoch    8/20 Cost: 0.964260\n",
      "Epoch    9/20 Cost: 0.958763\n",
      "Epoch   10/20 Cost: 0.953370\n",
      "Epoch   11/20 Cost: 0.948077\n",
      "Epoch   12/20 Cost: 0.942881\n",
      "Epoch   13/20 Cost: 0.937779\n",
      "Epoch   14/20 Cost: 0.932768\n",
      "Epoch   15/20 Cost: 0.927846\n",
      "Epoch   16/20 Cost: 0.923010\n",
      "Epoch   17/20 Cost: 0.918259\n",
      "Epoch   18/20 Cost: 0.913589\n",
      "Epoch   19/20 Cost: 0.909000\n",
      "Epoch   20/20 Cost: 0.904489\n"
     ]
    }
   ],
   "source": [
    "model = SoftmaxClassifierModel()\n",
    "optimizer = optim.SGD(model.parameters(), lr = 1e-1)\n",
    "\n",
    "train(model, optimizer, x_train, y_train)"
   ]
  },
  {
   "cell_type": "markdown",
   "metadata": {},
   "source": [
    "### data preprocessing"
   ]
  },
  {
   "cell_type": "code",
   "execution_count": 21,
   "metadata": {},
   "outputs": [],
   "source": [
    "x_train = torch.FloatTensor([[73, 80, 75],\n",
    "                            [93, 88, 93],\n",
    "                            [89, 91, 90],\n",
    "                            [96, 98, 100],\n",
    "                            [73, 66, 70]])\n",
    "y_train = torch.FloatTensor([[152], [185], [180], [196], [142]])\n",
    "#x_train = (m,3), y_train(m,)"
   ]
  },
  {
   "cell_type": "code",
   "execution_count": 27,
   "metadata": {},
   "outputs": [
    {
     "name": "stdout",
     "output_type": "stream",
     "text": [
      "tensor([[-1.0674, -0.3758, -0.8398],\n",
      "        [ 0.7418,  0.2778,  0.5863],\n",
      "        [ 0.3799,  0.5229,  0.3486],\n",
      "        [ 1.0132,  1.0948,  1.1409],\n",
      "        [-1.0674, -1.5197, -1.2360]])\n",
      "Epoch    0/20 Cost: 53630.710938\n",
      "Epoch    1/20 Cost: 16812.304688\n",
      "Epoch    2/20 Cost: 5271.690430\n",
      "Epoch    3/20 Cost: 1654.320312\n",
      "Epoch    4/20 Cost: 520.465332\n",
      "Epoch    5/20 Cost: 165.061523\n",
      "Epoch    6/20 Cost: 53.659992\n",
      "Epoch    7/20 Cost: 18.740778\n",
      "Epoch    8/20 Cost: 7.794397\n",
      "Epoch    9/20 Cost: 4.362283\n",
      "Epoch   10/20 Cost: 3.285524\n",
      "Epoch   11/20 Cost: 2.947077\n",
      "Epoch   12/20 Cost: 2.839991\n",
      "Epoch   13/20 Cost: 2.805459\n",
      "Epoch   14/20 Cost: 2.793651\n",
      "Epoch   15/20 Cost: 2.788972\n",
      "Epoch   16/20 Cost: 2.786565\n",
      "Epoch   17/20 Cost: 2.784829\n",
      "Epoch   18/20 Cost: 2.783322\n",
      "Epoch   19/20 Cost: 2.781852\n",
      "Epoch   20/20 Cost: 2.780428\n"
     ]
    }
   ],
   "source": [
    "#data preprocessing을 해주면 훨씬 수월해짐\n",
    "#여기서는 standardization을 함, 즉 정규분포로 만들어줌\n",
    "#우리의 데이터가 정규분포를 따른다고 가정하고 정규분포로 만들어줌.\n",
    "mu = x_train.mean(dim = 0)\n",
    "sigma = x_train.std(dim = 0)\n",
    "\n",
    "norm_x_train = (x_train - mu) / sigma\n",
    "print(norm_x_train)\n",
    "\n",
    "class MultivariateLinearRegressionModel(nn.Module):\n",
    "    def __init__(self):\n",
    "        super().__init__()\n",
    "        self.linear = nn.Linear(3,1)\n",
    "        \n",
    "    def forward(self, x):\n",
    "        return self.linear(x)\n",
    "    \n",
    "model = MultivariateLinearRegressionModel()\n",
    "optimizer = optim.SGD(model.parameters(), lr = 1e-5)\n",
    "\n",
    "def train(model, optimizer, x_train, y_train):\n",
    "    nb_epochs = 20\n",
    "    for epoch in range(nb_epochs + 1):\n",
    "        prediction = model(x_train)\n",
    "        cost = F.mse_loss(prediction, y_train) #mean squared error\n",
    "        \n",
    "        optimizer.zero_grad()\n",
    "        cost.backward()\n",
    "        optimizer.step()\n",
    "        \n",
    "        print('Epoch {:4d}/{} Cost: {:.6f}'.format(\n",
    "        epoch, nb_epochs, cost.item()))\n",
    "        \n",
    "train(model, optimizer, x_train, y_train)"
   ]
  },
  {
   "cell_type": "code",
   "execution_count": null,
   "metadata": {},
   "outputs": [],
   "source": []
  }
 ],
 "metadata": {
  "kernelspec": {
   "display_name": "Python 3",
   "language": "python",
   "name": "python3"
  },
  "language_info": {
   "codemirror_mode": {
    "name": "ipython",
    "version": 3
   },
   "file_extension": ".py",
   "mimetype": "text/x-python",
   "name": "python",
   "nbconvert_exporter": "python",
   "pygments_lexer": "ipython3",
   "version": "3.7.5"
  }
 },
 "nbformat": 4,
 "nbformat_minor": 2
}
