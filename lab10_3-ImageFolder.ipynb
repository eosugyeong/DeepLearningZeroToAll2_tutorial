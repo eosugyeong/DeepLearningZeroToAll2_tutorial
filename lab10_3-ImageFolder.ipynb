{
 "cells": [
  {
   "cell_type": "code",
   "execution_count": 24,
   "metadata": {},
   "outputs": [],
   "source": [
    "import torchvision\n",
    "from torchvision import transforms\n",
    "from torch.utils.data import DataLoader"
   ]
  },
  {
   "cell_type": "code",
   "execution_count": 25,
   "metadata": {},
   "outputs": [],
   "source": [
    "from matplotlib.pyplot import imshow\n",
    "%matplotlib inline"
   ]
  },
  {
   "cell_type": "code",
   "execution_count": 26,
   "metadata": {},
   "outputs": [],
   "source": [
    "trans = transforms.Compose([\n",
    "    transforms.Resize((128, 64))\n",
    "])\n",
    "train_data = torchvision.datasets.ImageFolder(root = 'C:/Users/ehrme/모두의 딥러닝 torch/origin_data',\n",
    "                                             transform = trans)"
   ]
  },
  {
   "cell_type": "code",
   "execution_count": 28,
   "metadata": {},
   "outputs": [
    {
     "name": "stdout",
     "output_type": "stream",
     "text": [
      "0 <PIL.Image.Image image mode=RGB size=64x128 at 0x2B44FF5A748> 0\n",
      "1 <PIL.Image.Image image mode=RGB size=64x128 at 0x2B44FF5A448> 0\n",
      "2 <PIL.Image.Image image mode=RGB size=64x128 at 0x2B44FF5A6C8> 0\n",
      "3 <PIL.Image.Image image mode=RGB size=64x128 at 0x2B450108FC8> 0\n",
      "4 <PIL.Image.Image image mode=RGB size=64x128 at 0x2B44FF5A3C8> 0\n",
      "5 <PIL.Image.Image image mode=RGB size=64x128 at 0x2B44FF5A6C8> 0\n",
      "6 <PIL.Image.Image image mode=RGB size=64x128 at 0x2B44FF5A048> 0\n",
      "7 <PIL.Image.Image image mode=RGB size=64x128 at 0x2B44FF5A388> 0\n",
      "8 <PIL.Image.Image image mode=RGB size=64x128 at 0x2B450108908> 0\n",
      "9 <PIL.Image.Image image mode=RGB size=64x128 at 0x2B44FFBEDC8> 0\n",
      "10 <PIL.Image.Image image mode=RGB size=64x128 at 0x2B44FFF5248> 0\n",
      "11 <PIL.Image.Image image mode=RGB size=64x128 at 0x2B44FF5A648> 0\n",
      "12 <PIL.Image.Image image mode=RGB size=64x128 at 0x2B44ED53108> 0\n",
      "13 <PIL.Image.Image image mode=RGB size=64x128 at 0x2B44FFF5248> 0\n",
      "14 <PIL.Image.Image image mode=RGB size=64x128 at 0x2B44FFBEDC8> 0\n",
      "15 <PIL.Image.Image image mode=RGB size=64x128 at 0x2B450108F88> 0\n",
      "16 <PIL.Image.Image image mode=RGB size=64x128 at 0x2B44ED53108> 0\n",
      "17 <PIL.Image.Image image mode=RGB size=64x128 at 0x2B44FF5A048> 0\n",
      "18 <PIL.Image.Image image mode=RGB size=64x128 at 0x2B44FF5A448> 0\n",
      "19 <PIL.Image.Image image mode=RGB size=64x128 at 0x2B450108E48> 0\n",
      "20 <PIL.Image.Image image mode=RGB size=64x128 at 0x2B44FF5A2C8> 0\n",
      "21 <PIL.Image.Image image mode=RGB size=64x128 at 0x2B44FF5A388> 0\n",
      "22 <PIL.Image.Image image mode=RGB size=64x128 at 0x2B44FF5AEC8> 0\n",
      "23 <PIL.Image.Image image mode=RGB size=64x128 at 0x2B44FF5A048> 0\n",
      "24 <PIL.Image.Image image mode=RGB size=64x128 at 0x2B450108F08> 0\n",
      "25 <PIL.Image.Image image mode=RGB size=64x128 at 0x2B450108E48> 0\n",
      "26 <PIL.Image.Image image mode=RGB size=64x128 at 0x2B44ED53108> 0\n",
      "27 <PIL.Image.Image image mode=RGB size=64x128 at 0x2B44FFBEDC8> 0\n",
      "28 <PIL.Image.Image image mode=RGB size=64x128 at 0x2B44FF5A3C8> 1\n",
      "29 <PIL.Image.Image image mode=RGB size=64x128 at 0x2B450108F88> 1\n",
      "30 <PIL.Image.Image image mode=RGB size=64x128 at 0x2B450108908> 1\n",
      "31 <PIL.Image.Image image mode=RGB size=64x128 at 0x2B44FF5A388> 1\n",
      "32 <PIL.Image.Image image mode=RGB size=64x128 at 0x2B44FF5A6C8> 1\n",
      "33 <PIL.Image.Image image mode=RGB size=64x128 at 0x2B44FF5A2C8> 1\n",
      "34 <PIL.Image.Image image mode=RGB size=64x128 at 0x2B44ED53108> 1\n",
      "35 <PIL.Image.Image image mode=RGB size=64x128 at 0x2B44FF5A048> 1\n",
      "36 <PIL.Image.Image image mode=RGB size=64x128 at 0x2B450108F88> 1\n",
      "37 <PIL.Image.Image image mode=RGB size=64x128 at 0x2B44FF5A048> 1\n",
      "38 <PIL.Image.Image image mode=RGB size=64x128 at 0x2B44FF5A3C8> 1\n",
      "39 <PIL.Image.Image image mode=RGB size=64x128 at 0x2B450108FC8> 1\n",
      "40 <PIL.Image.Image image mode=RGB size=64x128 at 0x2B44FF5A408> 1\n",
      "41 <PIL.Image.Image image mode=RGB size=64x128 at 0x2B44FF5A3C8> 1\n",
      "42 <PIL.Image.Image image mode=RGB size=64x128 at 0x2B450108908> 1\n",
      "43 <PIL.Image.Image image mode=RGB size=64x128 at 0x2B44FF5A3C8> 1\n",
      "44 <PIL.Image.Image image mode=RGB size=64x128 at 0x2B450108B48> 1\n",
      "45 <PIL.Image.Image image mode=RGB size=64x128 at 0x2B450108DC8> 1\n",
      "46 <PIL.Image.Image image mode=RGB size=64x128 at 0x2B44FF5A388> 1\n",
      "47 <PIL.Image.Image image mode=RGB size=64x128 at 0x2B450108F08> 1\n",
      "48 <PIL.Image.Image image mode=RGB size=64x128 at 0x2B44FF5A408> 1\n",
      "49 <PIL.Image.Image image mode=RGB size=64x128 at 0x2B450074188> 1\n",
      "50 <PIL.Image.Image image mode=RGB size=64x128 at 0x2B44ED53108> 1\n",
      "51 <PIL.Image.Image image mode=RGB size=64x128 at 0x2B450108F08> 1\n",
      "52 <PIL.Image.Image image mode=RGB size=64x128 at 0x2B450108F88> 1\n",
      "53 <PIL.Image.Image image mode=RGB size=64x128 at 0x2B44FFF5248> 1\n",
      "54 <PIL.Image.Image image mode=RGB size=64x128 at 0x2B44FF5A408> 1\n",
      "55 <PIL.Image.Image image mode=RGB size=64x128 at 0x2B44FF5A608> 1\n",
      "56 <PIL.Image.Image image mode=RGB size=64x128 at 0x2B44FF5A6C8> 1\n",
      "57 <PIL.Image.Image image mode=RGB size=64x128 at 0x2B44FFF5248> 1\n",
      "58 <PIL.Image.Image image mode=RGB size=64x128 at 0x2B44FF5A608> 1\n",
      "59 <PIL.Image.Image image mode=RGB size=64x128 at 0x2B44FF5A388> 1\n"
     ]
    }
   ],
   "source": [
    "for num, value in enumerate(train_data):\n",
    "    data, label = value\n",
    "    print(num, data, label)\n",
    "    \n",
    "    if (label == 0):\n",
    "        data.save('C:/Users/ehrme/모두의 딥러닝 torch/train_data/KoreanEmbedding/%d_%d.jpeg'%(num, label))\n",
    "    else:\n",
    "        data.save('C:/Users/ehrme/모두의 딥러닝 torch/train_data/KerasDeeplearning/%d_%d.jpeg'%(num, label))"
   ]
  },
  {
   "cell_type": "code",
   "execution_count": null,
   "metadata": {},
   "outputs": [],
   "source": []
  },
  {
   "cell_type": "code",
   "execution_count": null,
   "metadata": {},
   "outputs": [],
   "source": []
  },
  {
   "cell_type": "code",
   "execution_count": null,
   "metadata": {},
   "outputs": [],
   "source": []
  },
  {
   "cell_type": "code",
   "execution_count": null,
   "metadata": {},
   "outputs": [],
   "source": []
  }
 ],
 "metadata": {
  "kernelspec": {
   "display_name": "Python 3",
   "language": "python",
   "name": "python3"
  },
  "language_info": {
   "codemirror_mode": {
    "name": "ipython",
    "version": 3
   },
   "file_extension": ".py",
   "mimetype": "text/x-python",
   "name": "python",
   "nbconvert_exporter": "python",
   "pygments_lexer": "ipython3",
   "version": "3.7.5"
  }
 },
 "nbformat": 4,
 "nbformat_minor": 2
}
