{
 "cells": [
  {
   "cell_type": "code",
   "execution_count": 22,
   "metadata": {},
   "outputs": [
    {
     "name": "stdout",
     "output_type": "stream",
     "text": [
      "cpu\n"
     ]
    }
   ],
   "source": [
    "import torchvision.datasets as dsets\n",
    "import torchvision.transforms as transforms\n",
    "import torch\n",
    "import matplotlib.pyplot as plt\n",
    "import random\n",
    "\n",
    "device = 'cuda' if torch.cuda.is_available() else 'cpu'\n",
    "if device == 'cuda':\n",
    "    torch.cuda.manual_seed_all(777)"
   ]
  },
  {
   "cell_type": "code",
   "execution_count": 15,
   "metadata": {},
   "outputs": [],
   "source": [
    "mnist_train = dsets.MNIST(root = 'MNIST_data/', train = True, transform = transforms.ToTensor(),\n",
    "                         download = True)\n",
    "#root = 어느 경로에 mnist data가 있냐\n",
    "#train = True: trainset을 불러오겠다, False: testset을 불러오겠다.\n",
    "#transform = MNIST이미지를 불러올 때 어떤 트랜스폼들을 적용해서 불러 올거냐.\n",
    "#ToTensor->일반적으로 파이토치의 경우: 이미지:0-1사이의 값, 순서: 채널,높이,너비 순\n",
    "#->일반적인 이미지: 0-255, 높이,너비,채널 순\n",
    "#따라서 totensor는 이 이미지의 순서와 값들을 파이토치에 맞게 바꿔주는 역할\n",
    "\n",
    "mnist_test = dsets.MNIST(root = 'MNIST_data/', train = False, transform = transforms.ToTensor(),\n",
    "                        download = True)\n",
    "\n",
    "training_epochs = 15\n",
    "batch_size = 100\n",
    "\n",
    "data_loader = torch.utils.data.DataLoader(dataset = mnist_train, batch_size = batch_size,\n",
    "                                    shuffle = True, drop_last = True)\n",
    "#DataLoader: 어떤 데이터를 로드할거냐-> mnist.train\n",
    "#batch_size: 몇 개씩 잘라서 불러올래\n",
    "#shuffle: 6만장에서 100장씩 불러올때 무작위로 불러올래 순서대로 불러올래?\n",
    "#drop_last: 불러올 때 맨 뒤에 숫자가 맞지 않게 남는 데이터를 어떻게 할거냐, true:버린다.\n",
    "\n",
    "for epoch in range(training_epochs):\n",
    "    for X, Y in data_loader:\n",
    "        X = X.view(-1, 28*28).to(device)\n",
    "        Y = Y.to(device)\n",
    "        #X에는 mnist 이미지를 불러옴\n",
    "        #Y에는 레이블을 불러옴(0-9까지)\n",
    "        #view를 이용해 784로 바꿔줌\n",
    "        #batch_size, 크기(1채널), 28(높이)*28(너비)\n",
    "        #->이걸 view를 이용하여 batch_size, 784로 바꿔줌\n",
    "        #이 바뀐 걸 다시 x에 저장"
   ]
  },
  {
   "cell_type": "code",
   "execution_count": 16,
   "metadata": {},
   "outputs": [
    {
     "name": "stdout",
     "output_type": "stream",
     "text": [
      "Epoch:  0001 cost = 0.534279406\n",
      "Epoch:  0002 cost = 0.359794915\n",
      "Epoch:  0003 cost = 0.331421643\n",
      "Epoch:  0004 cost = 0.316569060\n",
      "Epoch:  0005 cost = 0.307156473\n",
      "Epoch:  0006 cost = 0.300259382\n",
      "Epoch:  0007 cost = 0.294977099\n",
      "Epoch:  0008 cost = 0.290872782\n",
      "Epoch:  0009 cost = 0.287164867\n",
      "Epoch:  0010 cost = 0.284148514\n",
      "Epoch:  0011 cost = 0.281884283\n",
      "Epoch:  0012 cost = 0.279374152\n",
      "Epoch:  0013 cost = 0.277841747\n",
      "Epoch:  0014 cost = 0.275863618\n",
      "Epoch:  0015 cost = 0.274355918\n"
     ]
    }
   ],
   "source": [
    "linear = torch.nn.Linear(784, 10, bias = True).to(device)\n",
    "#리니어 레이어의 입력: 784(28*28), output: 10(0-9lable), bias = True\n",
    "criterion = torch.nn.CrossEntropyLoss().to(device)\n",
    "optimizer = torch.optim.SGD(linear.parameters(), lr = 0.1)\n",
    "\n",
    "for epoch in range(training_epochs):\n",
    "    avg_cost = 0\n",
    "    total_batch = len(data_loader)\n",
    "    for X, Y in data_loader:\n",
    "        X = X.view(-1, 28*28).to(device)\n",
    "        optimizer.zero_grad()\n",
    "        hypothesis = linear(X)\n",
    "        cost = criterion(hypothesis, Y)\n",
    "        cost.backward()\n",
    "        optimizer.step()\n",
    "        avg_cost += cost / total_batch\n",
    "    print('Epoch: ', '%04d'%(epoch + 1), 'cost =', '{:.9f}'.format(avg_cost))"
   ]
  },
  {
   "cell_type": "code",
   "execution_count": 17,
   "metadata": {},
   "outputs": [
    {
     "name": "stdout",
     "output_type": "stream",
     "text": [
      "Accuracy:  0.882099986076355\n"
     ]
    },
    {
     "name": "stderr",
     "output_type": "stream",
     "text": [
      "C:\\Users\\ehrme\\Anaconda3\\envs\\project_1\\lib\\site-packages\\torchvision\\datasets\\mnist.py:58: UserWarning: test_data has been renamed data\n",
      "  warnings.warn(\"test_data has been renamed data\")\n",
      "C:\\Users\\ehrme\\Anaconda3\\envs\\project_1\\lib\\site-packages\\torchvision\\datasets\\mnist.py:48: UserWarning: test_labels has been renamed targets\n",
      "  warnings.warn(\"test_labels has been renamed targets\")\n"
     ]
    }
   ],
   "source": [
    "#test\n",
    "with torch.no_grad():\n",
    "    #gradient계산을 안하겠다.->테스트할때는 이걸 적어주는 습관을 기르자!\n",
    "    X_test = mnist_test.test_data.view(-1, 28*28).float().to(device)\n",
    "    Y_test = mnist_test.test_labels.to(device)\n",
    "    \n",
    "    prediction = linear(X_test)\n",
    "    correct_prediction = torch.argmax(prediction, 1) == Y_test\n",
    "    accuracy = correct_prediction.float().mean()\n",
    "    print('Accuracy: ', accuracy.item())"
   ]
  },
  {
   "cell_type": "code",
   "execution_count": 20,
   "metadata": {},
   "outputs": [
    {
     "name": "stdout",
     "output_type": "stream",
     "text": [
      "label:  9\n",
      "Prediction:  9\n"
     ]
    },
    {
     "data": {
      "image/png": "[encoded data removed]",
      "text/plain": [
       "<Figure size 432x288 with 1 Axes>"
      ]
     },
     "metadata": {
      "needs_background": "light"
     },
     "output_type": "display_data"
    }
   ],
   "source": [
    "#visualization\n",
    "r = random.randint(0, len(mnist_test) -1)\n",
    "X_single_data = mnist_test.test_data[r:r+1].view(-1, 28*28).float().to(device)\n",
    "Y_single_data = mnist_test.test_labels[r:r+1].to(device)\n",
    "\n",
    "print('label: ', Y_single_data.item())\n",
    "single_prediction = linear(X_single_data)\n",
    "print('Prediction: ', torch.argmax(single_prediction, 1).item())\n",
    "\n",
    "plt.imshow(mnist_test.test_data[r:r+1].view(28, 28),\n",
    "          cmap = 'Greys', interpolation = 'nearest')\n",
    "plt.show()"
   ]
  },
  {
   "cell_type": "code",
   "execution_count": null,
   "metadata": {},
   "outputs": [],
   "source": []
  },
  {
   "cell_type": "code",
   "execution_count": null,
   "metadata": {},
   "outputs": [],
   "source": []
  }
 ],
 "metadata": {
  "kernelspec": {
   "display_name": "Python 3",
   "language": "python",
   "name": "python3"
  },
  "language_info": {
   "codemirror_mode": {
    "name": "ipython",
    "version": 3
   },
   "file_extension": ".py",
   "mimetype": "text/x-python",
   "name": "python",
   "nbconvert_exporter": "python",
   "pygments_lexer": "ipython3",
   "version": "3.7.5"
  }
 },
 "nbformat": 4,
 "nbformat_minor": 2
}
