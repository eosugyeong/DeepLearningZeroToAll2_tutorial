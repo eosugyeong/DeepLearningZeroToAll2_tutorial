{
 "cells": [
  {
   "cell_type": "code",
   "execution_count": 22,
   "metadata": {},
   "outputs": [
    {
     "name": "stdout",
     "output_type": "stream",
     "text": [
      "Epoch    0/20 Cost: 16176.819336\n",
      "Epoch    1/20 Cost: 5070.801270\n",
      "Epoch    2/20 Cost: 1589.655762\n",
      "Epoch    3/20 Cost: 498.501221\n",
      "Epoch    4/20 Cost: 156.482254\n",
      "Epoch    5/20 Cost: 49.277489\n",
      "Epoch    6/20 Cost: 15.674434\n",
      "Epoch    7/20 Cost: 5.141627\n",
      "Epoch    8/20 Cost: 1.840112\n",
      "Epoch    9/20 Cost: 0.805207\n",
      "Epoch   10/20 Cost: 0.480802\n",
      "Epoch   11/20 Cost: 0.379094\n",
      "Epoch   12/20 Cost: 0.347173\n",
      "Epoch   13/20 Cost: 0.337135\n",
      "Epoch   14/20 Cost: 0.333959\n",
      "Epoch   15/20 Cost: 0.332933\n",
      "Epoch   16/20 Cost: 0.332583\n",
      "Epoch   17/20 Cost: 0.332444\n",
      "Epoch   18/20 Cost: 0.332365\n",
      "Epoch   19/20 Cost: 0.332314\n",
      "Epoch   20/20 Cost: 0.332270\n"
     ]
    }
   ],
   "source": [
    "#multivariable linear regression 구현\n",
    "import torch\n",
    "import torch.optim as optim\n",
    "import torch.nn as nn\n",
    "import torch.nn.functional as F\n",
    "\n",
    "class LinearRegressionModel(nn.Module):\n",
    "    def __init__(self):\n",
    "        super().__init__()\n",
    "        self.linear = nn.Linear(1, 1)\n",
    "        \n",
    "    def forward(self, x):\n",
    "        return self.linear(x)\n",
    "    \n",
    "class MultivariateLinearRegressionModel(nn.Module):\n",
    "    def __init__(self):\n",
    "        super().__init__()\n",
    "        self.linear = nn.Linear(3,1)\n",
    "    \n",
    "    def forward(self, x):\n",
    "        return self.linear(x)\n",
    "\n",
    "x_train = torch.FloatTensor([[73, 80, 75],\n",
    "                            [93, 88, 93],\n",
    "                            [89, 91, 90],\n",
    "                            [96, 98, 100],\n",
    "                            [73, 66, 70]])\n",
    "y_train = torch.FloatTensor([[152], [185], [180], [196], [142]])\n",
    "\n",
    "model = MultivariateLinearRegressionModel() #모델초기화\n",
    "optimizer = optim.SGD(model.parameters(), lr = 1e-5)\n",
    "\n",
    "nb_epochs = 20\n",
    "for epoch in range(nb_epochs + 1):\n",
    "    prediction = model(x_train)\n",
    "    cost = F.mse_loss(prediction, y_train)\n",
    "    \n",
    "    optimizer.zero_grad()\n",
    "    cost.backward()\n",
    "    optimizer.step()\n",
    "    \n",
    "    print('Epoch {:4d}/{} Cost: {:.6f}'.format(\n",
    "    epoch, nb_epochs, cost.item()))\n"
   ]
  },
  {
   "cell_type": "code",
   "execution_count": null,
   "metadata": {},
   "outputs": [],
   "source": []
  }
 ],
 "metadata": {
  "kernelspec": {
   "display_name": "Python 3",
   "language": "python",
   "name": "python3"
  }
 },
 "nbformat": 4,
 "nbformat_minor": 2
}
