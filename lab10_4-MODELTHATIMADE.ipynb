{
 "cells": [
  {
   "cell_type": "code",
   "execution_count": 308,
   "metadata": {},
   "outputs": [],
   "source": [
    "import torch\n",
    "import torch.nn as nn\n",
    "import torchvision.transforms as transforms\n",
    "import torchvision.datasets as dsets\n",
    "import torch.nn.init\n",
    "import torchvision"
   ]
  },
  {
   "cell_type": "code",
   "execution_count": 309,
   "metadata": {},
   "outputs": [],
   "source": [
    "device = 'cuda' if torch.cuda.is_available else 'cpu'\n",
    "\n",
    "torch.manual_seed(777)\n",
    "if device == 'cuda':\n",
    "    torch.cuda.manual_seed(777)"
   ]
  },
  {
   "cell_type": "code",
   "execution_count": 310,
   "metadata": {},
   "outputs": [],
   "source": [
    "#model parameter\n",
    "training_epochs = 15"
   ]
  },
  {
   "cell_type": "code",
   "execution_count": 311,
   "metadata": {},
   "outputs": [
    {
     "name": "stdout",
     "output_type": "stream",
     "text": [
      "0 <PIL.Image.Image image mode=RGB size=64x128 at 0x1954F0471C8> 0\n",
      "1 <PIL.Image.Image image mode=RGB size=64x128 at 0x1954FD991C8> 0\n",
      "2 <PIL.Image.Image image mode=RGB size=64x128 at 0x1954FDD4348> 1\n",
      "3 <PIL.Image.Image image mode=RGB size=64x128 at 0x1954FDD4E88> 1\n"
     ]
    }
   ],
   "source": [
    "train_data = dsets.ImageFolder(root = 'C:/Users/ehrme/모두의 딥러닝 torch/train_data/',\n",
    "                              transform = transforms.ToTensor())\n",
    "\n",
    "trans = transforms.Compose([\n",
    "    transforms.Resize((128, 64))\n",
    "])\n",
    "\n",
    "test = torchvision.datasets.ImageFolder(root = 'C:/Users/ehrme/모두의 딥러닝 torch/test_origin/',\n",
    "                             transform = trans)\n",
    "\n",
    "for num, value in enumerate(test):\n",
    "    data, label = value\n",
    "    print(num, data, label)\n",
    "    if (label == 1):\n",
    "        data.save('C:/Users/ehrme/모두의 딥러닝 torch/test_data/KerasDeeplearning/%d_%d.jpeg'%(num, label))\n",
    "    else:\n",
    "        data.save('C:/Users/ehrme/모두의 딥러닝 torch/test_data/KoreanEmbedding/%d_%d.jpeg'%(num, label))"
   ]
  },
  {
   "cell_type": "code",
   "execution_count": 320,
   "metadata": {},
   "outputs": [],
   "source": [
    "test_data = dsets.ImageFolder(root = 'C:/Users/ehrme/모두의 딥러닝 torch/test_data/',\n",
    "                              transform = transforms.ToTensor())\n",
    "\n",
    "test_set = torch.utils.data.DataLoader(dataset = test_data, batch_size = len(test_data))"
   ]
  },
  {
   "cell_type": "code",
   "execution_count": 321,
   "metadata": {},
   "outputs": [],
   "source": [
    "data_loader = torch.utils.data.DataLoader(dataset = train_data,\n",
    "                                         batch_size = 8,\n",
    "                                          shuffle = True,\n",
    "                                          drop_last = True)"
   ]
  },
  {
   "cell_type": "code",
   "execution_count": 322,
   "metadata": {},
   "outputs": [],
   "source": [
    "class CNN(nn.Module):\n",
    "    def __init__(self):\n",
    "        super(CNN, self).__init__()\n",
    "        self.layer1 = nn.Sequential(\n",
    "            nn.Conv2d(3, 6, 5, stride = 1),\n",
    "            nn.ReLU(),\n",
    "            nn.MaxPool2d(2)\n",
    "        )\n",
    "        self.layer2 = nn.Sequential(\n",
    "            nn.Conv2d(6, 16, 5, stride = 1),\n",
    "            nn.ReLU(),\n",
    "            nn.MaxPool2d(2))\n",
    "        \n",
    "        self.fc = nn.Linear(6032, 120)\n",
    "        self.relu = nn.ReLU()\n",
    "        self.fc2 = nn.Linear(120, 2)\n",
    "        torch.nn.init.xavier_uniform_(self.fc.weight)\n",
    "        torch.nn.init.xavier_uniform_(self.fc2.weight)\n",
    "        \n",
    "    def forward(self, x):\n",
    "        out = self.layer1(x)\n",
    "        out = self.layer2(out)\n",
    "            \n",
    "        out = out.view(out.size(0), -1)\n",
    "        out = self.fc(out)\n",
    "        out = self.relu(out)\n",
    "        out = self.fc2(out)\n",
    "\n",
    "        return out"
   ]
  },
  {
   "cell_type": "code",
   "execution_count": 323,
   "metadata": {},
   "outputs": [
    {
     "name": "stdout",
     "output_type": "stream",
     "text": [
      "CNN(\n",
      "  (layer1): Sequential(\n",
      "    (0): Conv2d(3, 6, kernel_size=(5, 5), stride=(1, 1))\n",
      "    (1): ReLU()\n",
      "    (2): MaxPool2d(kernel_size=2, stride=2, padding=0, dilation=1, ceil_mode=False)\n",
      "  )\n",
      "  (layer2): Sequential(\n",
      "    (0): Conv2d(6, 16, kernel_size=(5, 5), stride=(1, 1))\n",
      "    (1): ReLU()\n",
      "    (2): MaxPool2d(kernel_size=2, stride=2, padding=0, dilation=1, ceil_mode=False)\n",
      "  )\n",
      "  (fc): Linear(in_features=6032, out_features=120, bias=True)\n",
      "  (relu): ReLU()\n",
      "  (fc2): Linear(in_features=120, out_features=2, bias=True)\n",
      ")\n"
     ]
    }
   ],
   "source": [
    "model = CNN()\n",
    "print(model)"
   ]
  },
  {
   "cell_type": "code",
   "execution_count": 324,
   "metadata": {},
   "outputs": [],
   "source": [
    "criterion = nn.CrossEntropyLoss()\n",
    "optimizer = torch.optim.Adam(model.parameters(), lr = 0.001)"
   ]
  },
  {
   "cell_type": "code",
   "execution_count": 325,
   "metadata": {},
   "outputs": [
    {
     "name": "stdout",
     "output_type": "stream",
     "text": [
      "Epoch:  1 Cost:  tensor(0.7477, grad_fn=<AddBackward0>)\n",
      "Epoch:  2 Cost:  tensor(0.6709, grad_fn=<AddBackward0>)\n",
      "Epoch:  3 Cost:  tensor(0.6178, grad_fn=<AddBackward0>)\n",
      "Epoch:  4 Cost:  tensor(0.5390, grad_fn=<AddBackward0>)\n",
      "Epoch:  5 Cost:  tensor(0.5174, grad_fn=<AddBackward0>)\n",
      "Epoch:  6 Cost:  tensor(0.4990, grad_fn=<AddBackward0>)\n",
      "Epoch:  7 Cost:  tensor(0.4043, grad_fn=<AddBackward0>)\n",
      "Epoch:  8 Cost:  tensor(0.3830, grad_fn=<AddBackward0>)\n",
      "Epoch:  9 Cost:  tensor(0.3223, grad_fn=<AddBackward0>)\n",
      "Epoch:  10 Cost:  tensor(0.1901, grad_fn=<AddBackward0>)\n",
      "Epoch:  11 Cost:  tensor(0.1083, grad_fn=<AddBackward0>)\n",
      "Epoch:  12 Cost:  tensor(0.0758, grad_fn=<AddBackward0>)\n",
      "Epoch:  13 Cost:  tensor(0.0837, grad_fn=<AddBackward0>)\n",
      "Epoch:  14 Cost:  tensor(0.0555, grad_fn=<AddBackward0>)\n",
      "Epoch:  15 Cost:  tensor(0.0417, grad_fn=<AddBackward0>)\n",
      "Learning Finished!\n"
     ]
    }
   ],
   "source": [
    "#training\n",
    "total_batch = len(data_loader)\n",
    "\n",
    "for epoch in range(training_epochs):\n",
    "    avg_cost = 0\n",
    "    \n",
    "    for X, Y in data_loader:\n",
    "        optimizer.zero_grad()\n",
    "        hypothesis = model(X)\n",
    "        \n",
    "        cost = criterion(hypothesis, Y)\n",
    "        cost.backward()\n",
    "        optimizer.step()\n",
    "        \n",
    "        avg_cost += cost / total_batch\n",
    "        \n",
    "    print('Epoch: ', epoch+1, 'Cost: ', avg_cost)\n",
    "print('Learning Finished!')"
   ]
  },
  {
   "cell_type": "code",
   "execution_count": 326,
   "metadata": {},
   "outputs": [
    {
     "name": "stdout",
     "output_type": "stream",
     "text": [
      "Accuracy:  1.0\n"
     ]
    }
   ],
   "source": [
    "with torch.no_grad():\n",
    "  #test는 학습할 필요가 없으므로 no gradient\n",
    "  for num, data in enumerate(test_set):\n",
    "    imgs, label = data\n",
    "    prediction = model(imgs)\n",
    "    correct_prediction = torch.argmax(prediction, 1) == label\n",
    "    accuracy = correct_prediction.float().mean()\n",
    "    print('Accuracy: ', accuracy.item())"
   ]
  },
  {
   "cell_type": "code",
   "execution_count": null,
   "metadata": {},
   "outputs": [],
   "source": []
  },
  {
   "cell_type": "code",
   "execution_count": null,
   "metadata": {},
   "outputs": [],
   "source": []
  },
  {
   "cell_type": "code",
   "execution_count": null,
   "metadata": {},
   "outputs": [],
   "source": []
  },
  {
   "cell_type": "code",
   "execution_count": null,
   "metadata": {},
   "outputs": [],
   "source": []
  }
 ],
 "metadata": {
  "kernelspec": {
   "display_name": "Python 3",
   "language": "python",
   "name": "python3"
  },
  "language_info": {
   "codemirror_mode": {
    "name": "ipython",
    "version": 3
   },
   "file_extension": ".py",
   "mimetype": "text/x-python",
   "name": "python",
   "nbconvert_exporter": "python",
   "pygments_lexer": "ipython3",
   "version": "3.7.5"
  }
 },
 "nbformat": 4,
 "nbformat_minor": 2
}
