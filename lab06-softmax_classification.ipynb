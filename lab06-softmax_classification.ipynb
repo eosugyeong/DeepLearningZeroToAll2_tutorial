{
 "cells": [
  {
   "cell_type": "code",
   "execution_count": 1,
   "metadata": {},
   "outputs": [],
   "source": [
    "#cross entropy를 최소화하는 것이 중요\n",
    "\n",
    "import torch\n",
    "import torch.nn as nn\n",
    "import torch.nn.functional as F\n",
    "import torch.optim as optim"
   ]
  },
  {
   "cell_type": "code",
   "execution_count": 2,
   "metadata": {},
   "outputs": [
    {
     "data": {
      "text/plain": [
       "<torch._C.Generator at 0x1df460d05f0>"
      ]
     },
     "execution_count": 2,
     "metadata": {},
     "output_type": "execute_result"
    }
   ],
   "source": [
    "torch.manual_seed(1)\n"
   ]
  },
  {
   "cell_type": "code",
   "execution_count": 6,
   "metadata": {},
   "outputs": [
    {
     "name": "stdout",
     "output_type": "stream",
     "text": [
      "tensor([1., 2., 3.])\n",
      "tensor([0.0900, 0.2447, 0.6652])\n"
     ]
    },
    {
     "data": {
      "text/plain": [
       "tensor(1.)"
      ]
     },
     "execution_count": 6,
     "metadata": {},
     "output_type": "execute_result"
    }
   ],
   "source": [
    "z = torch.FloatTensor([1,2,3])\n",
    "print(z)\n",
    "hypothesis = F.softmax(z, dim = 0)\n",
    "print(hypothesis)\n",
    "hypothesis.sum()"
   ]
  },
  {
   "cell_type": "markdown",
   "metadata": {},
   "source": [
    "### low level"
   ]
  },
  {
   "cell_type": "code",
   "execution_count": 8,
   "metadata": {},
   "outputs": [
    {
     "name": "stdout",
     "output_type": "stream",
     "text": [
      "tensor([[0.1664, 0.1871, 0.1737, 0.2695, 0.2033],\n",
      "        [0.2002, 0.1783, 0.2218, 0.1944, 0.2054],\n",
      "        [0.1809, 0.2380, 0.2318, 0.1084, 0.2409]], grad_fn=<SoftmaxBackward>)\n",
      "tensor([3, 1, 2])\n"
     ]
    }
   ],
   "source": [
    "z = torch.rand(3, 5, requires_grad = True) #아무거나\n",
    "#requires_grad = True: gradient를 배우도록 되어 있다.\n",
    "hypothesis = F.softmax(z, dim = 1)\n",
    "#dimension 1에 대해 softmax를 씌운다. 두번째 디맨젼에 대해 softmax를 수행해라\n",
    "#결과값은 이미 softmax가 수행되고 난 결과임\n",
    "print(hypothesis) #이건 prediction, y hat임.\n",
    "\n",
    "y = torch.randint(5, (3,)).long() #이건 정답, 정답을 랜덤으로 생성\n",
    "print(y) #정답 index\n",
    "#클래스의 개수: 5개, sample수: 3개"
   ]
  },
  {
   "cell_type": "code",
   "execution_count": 13,
   "metadata": {},
   "outputs": [
    {
     "name": "stdout",
     "output_type": "stream",
     "text": [
      "tensor(1.4992, grad_fn=<MeanBackward0>)\n"
     ]
    }
   ],
   "source": [
    "y_one_hot = torch.zeros_like(hypothesis) #y_one_hot: (3, 5)\n",
    "y_one_hot.scatter_(1, y.unsqueeze(1), 1) #dimension 1에 대해 y.unsqueeze해서 1을 뿌려\n",
    "#y의 size -> (3,), y.unsqueeze -> (3, 1)\n",
    "#_을 적어줘서 y_one_hot에 값을 저장, 새로 할당하는 게 아니라.\n",
    "\n",
    "cost = (y_one_hot * -torch.log(hypothesis)).sum(dim = 1).mean()\n",
    "#원래가 (3,5) -> dimension 1에 대해 sum을 하면 (3,1) -> mean을 하면 scalar값이 나옴\n",
    "print(cost) #이렇게 해서 평균을 구함."
   ]
  },
  {
   "cell_type": "markdown",
   "metadata": {},
   "source": [
    "### cross-entropy loss with torch.nn.functional"
   ]
  },
  {
   "cell_type": "code",
   "execution_count": 16,
   "metadata": {},
   "outputs": [
    {
     "name": "stdout",
     "output_type": "stream",
     "text": [
      "tensor([[-1.7935, -1.6760, -1.7504, -1.3114, -1.5929],\n",
      "        [-1.6086, -1.7244, -1.5062, -1.6381, -1.5826],\n",
      "        [-1.7096, -1.4354, -1.4617, -2.2223, -1.4236]], grad_fn=<LogBackward>)\n",
      "tensor([[-1.7935, -1.6760, -1.7504, -1.3114, -1.5929],\n",
      "        [-1.6086, -1.7244, -1.5062, -1.6381, -1.5826],\n",
      "        [-1.7096, -1.4354, -1.4617, -2.2223, -1.4236]],\n",
      "       grad_fn=<LogSoftmaxBackward>)\n"
     ]
    }
   ],
   "source": [
    "#low level\n",
    "print(torch.log(F.softmax(z, dim = 1)))\n",
    "\n",
    "#high level\n",
    "print(F.log_softmax(z, dim = 1))\n",
    "\n",
    "#똑같음"
   ]
  },
  {
   "cell_type": "code",
   "execution_count": 18,
   "metadata": {},
   "outputs": [
    {
     "name": "stdout",
     "output_type": "stream",
     "text": [
      "tensor(1.4992, grad_fn=<MeanBackward0>)\n",
      "tensor(1.4992, grad_fn=<NllLossBackward>)\n",
      "tensor(1.4992, grad_fn=<NllLossBackward>)\n"
     ]
    }
   ],
   "source": [
    "#low level\n",
    "print((y_one_hot * -torch.log(F.softmax(z, dim = 1))).sum(dim = 1).mean())\n",
    "\n",
    "#high level\n",
    "print(F.nll_loss(F.log_softmax(z, dim=1), y))\n",
    "#nll = negative log likelihood-> sum(dim=1).mean()을 생략할 수 있음.\n",
    "\n",
    "print(F.cross_entropy(z, y))"
   ]
  },
  {
   "cell_type": "markdown",
   "metadata": {},
   "source": [
    "### Training with low-level cross entropy loss"
   ]
  },
  {
   "cell_type": "code",
   "execution_count": 23,
   "metadata": {},
   "outputs": [
    {
     "name": "stdout",
     "output_type": "stream",
     "text": [
      "Epoch    0/1000 Cost: 1.098612\n",
      "Epoch  100/1000 Cost: 0.901535\n",
      "Epoch  200/1000 Cost: 0.839114\n",
      "Epoch  300/1000 Cost: 0.807826\n",
      "Epoch  400/1000 Cost: 0.788472\n",
      "Epoch  500/1000 Cost: 0.774822\n",
      "Epoch  600/1000 Cost: 0.764449\n",
      "Epoch  700/1000 Cost: 0.756191\n",
      "Epoch  800/1000 Cost: 0.749398\n",
      "Epoch  900/1000 Cost: 0.743671\n",
      "Epoch 1000/1000 Cost: 0.738749\n"
     ]
    }
   ],
   "source": [
    "x_train = [[1,2,1,1],\n",
    "          [2,1,3,2],\n",
    "          [3,1,3,4],\n",
    "          [4,1,5,5],\n",
    "          [1,7,5,5],\n",
    "          [1,2,5,6],\n",
    "          [1,6,6,6],\n",
    "          [1,7,7,7]]\n",
    "y_train = [2,2,2,1,1,1,0,0]\n",
    "x_train = torch.FloatTensor(x_train) #x_train = (m,4)\n",
    "y_train = torch.LongTensor(y_train) #y_train = (m,)\n",
    "\n",
    "#지금은 하나의 레이어만, 나중에 뉴럴넷은 이 레이어를 많이!\n",
    "W = torch.zeros((4,3), requires_grad = True) \n",
    "#4개 중에서 웨이트를 구해서 결국 클래스 세 개 중 하나의 값으로 나와야 하니까 아웃풋이 3\n",
    "b = torch.zeros(1, requires_grad = True)\n",
    "# #samples = m, #classes = 3, dim = 4\n",
    "\n",
    "optimizer = optim.SGD([W, b], lr = 0.1)\n",
    "\n",
    "nb_epochs = 1000\n",
    "for epoch in range(nb_epochs + 1):\n",
    "    #cost 계산\n",
    "    hypothesis = F.softmax(x_train.matmul(W) + b, dim = 1)\n",
    "    y_one_hot = torch.zeros_like(hypothesis)\n",
    "    y_one_hot.scatter_(1, y_train.unsqueeze(1), 1)\n",
    "    cost = (y_one_hot * -torch.log(F.softmax(hypothesis, dim=1))).sum(dim=1).mean()\n",
    "    \n",
    "    #cost로 h(x) 개선\n",
    "    optimizer.zero_grad() #gradient초기화\n",
    "    cost.backward() #backpropagation 수행\n",
    "    optimizer.step()\n",
    "    \n",
    "    if epoch % 100 == 0:\n",
    "        print('Epoch {:4d}/{} Cost: {:.6f}'.format(\n",
    "        epoch, nb_epochs, cost.item()))"
   ]
  },
  {
   "cell_type": "markdown",
   "metadata": {},
   "source": [
    "### training with F.cross_entropy"
   ]
  },
  {
   "cell_type": "code",
   "execution_count": 24,
   "metadata": {},
   "outputs": [
    {
     "name": "stdout",
     "output_type": "stream",
     "text": [
      "Epoch :    0/1000 Cost: 1.098612\n",
      "Epoch :  100/1000 Cost: 0.761050\n",
      "Epoch :  200/1000 Cost: 0.689991\n",
      "Epoch :  300/1000 Cost: 0.643229\n",
      "Epoch :  400/1000 Cost: 0.604117\n",
      "Epoch :  500/1000 Cost: 0.568255\n",
      "Epoch :  600/1000 Cost: 0.533922\n",
      "Epoch :  700/1000 Cost: 0.500291\n",
      "Epoch :  800/1000 Cost: 0.466908\n",
      "Epoch :  900/1000 Cost: 0.433507\n",
      "Epoch : 1000/1000 Cost: 0.399962\n"
     ]
    }
   ],
   "source": [
    "W = torch.zeros((4,3), requires_grad = True)\n",
    "b = torch.zeros(1, requires_grad = True)\n",
    "\n",
    "optimizer = optim.SGD([W, b], lr = 0.1)\n",
    "\n",
    "nb_epochs = 1000\n",
    "for epoch in range(nb_epochs + 1):\n",
    "    z = x_train.matmul(W) + b\n",
    "    cost = F.cross_entropy(z, y_train)\n",
    "    \n",
    "    optimizer.zero_grad()\n",
    "    cost.backward()\n",
    "    optimizer.step()\n",
    "    \n",
    "    if epoch % 100  == 0:\n",
    "        print('Epoch : {:4d}/{} Cost: {:.6f}'.format(\n",
    "        epoch, nb_epochs, cost.item()))\n",
    "    "
   ]
  },
  {
   "cell_type": "markdown",
   "metadata": {},
   "source": [
    "### high-level implementation with nn.Module"
   ]
  },
  {
   "cell_type": "code",
   "execution_count": 26,
   "metadata": {},
   "outputs": [
    {
     "name": "stdout",
     "output_type": "stream",
     "text": [
      "Epoch    0/1000 Cost 3.586499\n",
      "Epoch  100/1000 Cost 0.650367\n",
      "Epoch  200/1000 Cost 0.566842\n",
      "Epoch  300/1000 Cost 0.512495\n",
      "Epoch  400/1000 Cost 0.468165\n",
      "Epoch  500/1000 Cost 0.428759\n",
      "Epoch  600/1000 Cost 0.391982\n",
      "Epoch  700/1000 Cost 0.356357\n",
      "Epoch  800/1000 Cost 0.320727\n",
      "Epoch  900/1000 Cost 0.284398\n",
      "Epoch 1000/1000 Cost 0.250610\n"
     ]
    }
   ],
   "source": [
    "class SoftmaxClassifierModel(nn.Module):\n",
    "    def __init__(self):\n",
    "        super().__init__()\n",
    "        self.linear = nn.Linear(4, 3)\n",
    "        #리니어 레이어가 있고 4개의 인풋을 받아 3개의 클래스값을 아웃풋으로 내줌\n",
    "        \n",
    "    def forward(self, x):\n",
    "        return self.linear(x) #x는 sample개수(4개)\n",
    "    #리니어 레이어를 통과하면 x = (m, 4) ->리니어 모델 통과하면(m, 3)이 될 것이다.\n",
    "    \n",
    "model = SoftmaxClassifierModel()\n",
    "\n",
    "optimizer = optim.SGD(model.parameters(), lr = 0.1)\n",
    "\n",
    "nb_epochs = 1000\n",
    "for epoch in range(nb_epochs + 1):\n",
    "    prediction = model(x_train)\n",
    "    cost = F.cross_entropy(prediction, y_train)\n",
    "    \n",
    "    optimizer.zero_grad()\n",
    "    cost.backward()\n",
    "    optimizer.step()\n",
    "    \n",
    "    if epoch % 100 == 0:\n",
    "        print('Epoch {:4d}/{} Cost {:.6f}'.format(\n",
    "        epoch, nb_epochs, cost.item()))"
   ]
  },
  {
   "cell_type": "code",
   "execution_count": null,
   "metadata": {},
   "outputs": [],
   "source": []
  }
 ],
 "metadata": {
  "kernelspec": {
   "display_name": "Python 3",
   "language": "python",
   "name": "python3"
  },
  "language_info": {
   "codemirror_mode": {
    "name": "ipython",
    "version": 3
   },
   "file_extension": ".py",
   "mimetype": "text/x-python",
   "name": "python",
   "nbconvert_exporter": "python",
   "pygments_lexer": "ipython3",
   "version": "3.7.5"
  }
 },
 "nbformat": 4,
 "nbformat_minor": 2
}
