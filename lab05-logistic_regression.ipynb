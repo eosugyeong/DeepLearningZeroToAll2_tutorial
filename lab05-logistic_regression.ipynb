{
 "cells": [
  {
   "cell_type": "code",
   "execution_count": 1,
   "metadata": {},
   "outputs": [],
   "source": [
    "import torch\n",
    "import torch.nn as nn\n",
    "import torch.nn.functional as F\n",
    "import torch.optim as optim"
   ]
  },
  {
   "cell_type": "code",
   "execution_count": 35,
   "metadata": {},
   "outputs": [],
   "source": [
    "torch.manual_seed(1) #똑같이 결과를 재현해주기 위해 토치 씨드를 준다.\n",
    "\n",
    "x_data = [[1,2],[2,3],[3,1],[4,3],[5,3],[6,2]] #(6,2)\n",
    "y_data = [[0],[0],[0],[1],[1],[1]] #(6,)\n",
    "\n",
    "x_train = torch.FloatTensor(x_data)\n",
    "y_train = torch.FloatTensor(y_data)"
   ]
  },
  {
   "cell_type": "markdown",
   "metadata": {},
   "source": [
    "#### class로 만들기"
   ]
  },
  {
   "cell_type": "code",
   "execution_count": 39,
   "metadata": {},
   "outputs": [
    {
     "name": "stdout",
     "output_type": "stream",
     "text": [
      "Epoch    0 / 100 Cost 0.734527 Accuracy 50.00%\n",
      "Epoch   10 / 100 Cost 0.446570 Accuracy 66.67%\n",
      "Epoch   20 / 100 Cost 0.448868 Accuracy 66.67%\n",
      "Epoch   30 / 100 Cost 0.375859 Accuracy 83.33%\n",
      "Epoch   40 / 100 Cost 0.318583 Accuracy 83.33%\n",
      "Epoch   50 / 100 Cost 0.268096 Accuracy 83.33%\n",
      "Epoch   60 / 100 Cost 0.222295 Accuracy 100.00%\n",
      "Epoch   70 / 100 Cost 0.183465 Accuracy 100.00%\n",
      "Epoch   80 / 100 Cost 0.158036 Accuracy 100.00%\n",
      "Epoch   90 / 100 Cost 0.144541 Accuracy 100.00%\n",
      "Epoch  100 / 100 Cost 0.134652 Accuracy 100.00%\n"
     ]
    }
   ],
   "source": [
    "class BinaryClassifier(nn.Module):\n",
    "    def __init__(self):\n",
    "        super().__init__()\n",
    "        self.linear = nn.Linear(2, 1)\n",
    "        self.sigmoid = nn.Sigmoid()\n",
    "    \n",
    "    def forward(self, x):\n",
    "        return self.sigmoid(self.linear(x))\n",
    "\n",
    "model = BinaryClassifier()\n",
    "\n",
    "optimizer = optim.SGD(model.parameters(), lr = 1)\n",
    "nb_epochs = 100\n",
    "for epoch in range(nb_epochs + 1):\n",
    "    hypothesis = model(x_train)\n",
    "    cost = F.binary_cross_entropy(hypothesis, y_train)\n",
    "    \n",
    "    optimizer.zero_grad()\n",
    "    cost.backward()\n",
    "    optimizer.step()\n",
    "    \n",
    "    if epoch % 10 == 0:\n",
    "        prediction = hypothesis >= torch.FloatTensor([0.5])\n",
    "        correct_prediction = prediction.float() == y_train\n",
    "        accuracy = correct_prediction.sum().item() / len(correct_prediction)\n",
    "        print('Epoch {:4d} / {} Cost {:.6f} Accuracy {:2.2f}%'.format(\n",
    "        epoch, nb_epochs, cost.item(), accuracy * 100))"
   ]
  },
  {
   "cell_type": "markdown",
   "metadata": {},
   "source": [
    "#### 그냥만들기"
   ]
  },
  {
   "cell_type": "code",
   "execution_count": 37,
   "metadata": {},
   "outputs": [
    {
     "name": "stdout",
     "output_type": "stream",
     "text": [
      "e^1 equals:  tensor([2.7183])\n",
      "Epoch    0 / 1000 Cost: 0.693147\n",
      "Epoch  100 / 1000 Cost: 0.134722\n",
      "Epoch  200 / 1000 Cost: 0.080643\n",
      "Epoch  300 / 1000 Cost: 0.057900\n",
      "Epoch  400 / 1000 Cost: 0.045300\n",
      "Epoch  500 / 1000 Cost: 0.037261\n",
      "Epoch  600 / 1000 Cost: 0.031672\n",
      "Epoch  700 / 1000 Cost: 0.027556\n",
      "Epoch  800 / 1000 Cost: 0.024394\n",
      "Epoch  900 / 1000 Cost: 0.021888\n",
      "Epoch 1000 / 1000 Cost: 0.019852\n"
     ]
    }
   ],
   "source": [
    "print('e^1 equals: ', torch.exp(torch.FloatTensor([1])))\n",
    "W = torch.zeros((2,1), requires_grad = True) #d가 2였으므로 2,1\n",
    "#requires_grad = True: gradient를 배울거야\n",
    "b = torch.zeros(1, requires_grad = True)\n",
    "#다 zero로 주었음\n",
    "\n",
    "optimizer = optim.SGD([W, b], lr = 1) #SGD를 가지고 w와 b를 업데이트할거야\n",
    "#losses = -(y_train * torch.log(hypothesis) + (1- y_train) * torch.log(1 - hypothesis))\n",
    "\n",
    "\n",
    "nb_epochs = 1000\n",
    "for epoch in range(nb_epochs + 1):\n",
    "    #hypothesis = 1 / (1 + torch.exp(-(x_train.matmul(W) + b))) #h(x)를 계산(시그모이드 함수)\n",
    "    hypothesis = torch.sigmoid(x_train.matmul(W) + b)\n",
    "    cost = F.binary_cross_entropy(hypothesis, y_train)\n",
    "    \n",
    "    optimizer.zero_grad() #기존에 혹시나 구해놓은 gradient가 있으면 0으로 초기화\n",
    "    #이걸 안하면 기존의 gradient에 더하게 되니까 꼭 해야함\n",
    "    cost.backward() #backpropagation 수행\n",
    "    optimizer.step() #cost값을 minimize하는 방향으로 w와 b를 업데이트\n",
    "    \n",
    "    if epoch % 100 == 0:\n",
    "        print('Epoch {:4d} / {} Cost: {:.6f}'.format(\n",
    "        epoch, nb_epochs, cost.item()\n",
    "        ))"
   ]
  },
  {
   "cell_type": "markdown",
   "metadata": {},
   "source": [
    "#### 검증"
   ]
  },
  {
   "cell_type": "code",
   "execution_count": 38,
   "metadata": {},
   "outputs": [
    {
     "name": "stdout",
     "output_type": "stream",
     "text": [
      "tensor([[2.7648e-04],\n",
      "        [3.1608e-02],\n",
      "        [3.8977e-02],\n",
      "        [9.5622e-01],\n",
      "        [9.9823e-01]], grad_fn=<SliceBackward>)\n",
      "tensor([[False],\n",
      "        [False],\n",
      "        [False],\n",
      "        [ True],\n",
      "        [ True]])\n",
      "tensor([[0.],\n",
      "        [0.],\n",
      "        [0.],\n",
      "        [1.],\n",
      "        [1.]])\n",
      "tensor([[True],\n",
      "        [True],\n",
      "        [True],\n",
      "        [True],\n",
      "        [True],\n",
      "        [True]])\n"
     ]
    }
   ],
   "source": [
    "hypothesis = torch.sigmoid(x_train.matmul(W) + b)\n",
    "print(hypothesis[:5])\n",
    "\n",
    "prediction = hypothesis >= torch.FloatTensor([0.5])\n",
    "print(prediction[:5])\n",
    "print(y_train[:5])\n",
    "\n",
    "correct_prediction = prediction.float() == y_train\n",
    "print(correct_prediction)"
   ]
  },
  {
   "cell_type": "markdown",
   "metadata": {},
   "source": [
    "#### 새로 파일 로드"
   ]
  },
  {
   "cell_type": "code",
   "execution_count": 41,
   "metadata": {},
   "outputs": [
    {
     "name": "stdout",
     "output_type": "stream",
     "text": [
      "tensor([[-0.2941,  0.4874,  0.1803, -0.2929,  0.0000,  0.0015, -0.5312, -0.0333],\n",
      "        [-0.8824, -0.1457,  0.0820, -0.4141,  0.0000, -0.2072, -0.7669, -0.6667],\n",
      "        [-0.0588,  0.8392,  0.0492,  0.0000,  0.0000, -0.3055, -0.4927, -0.6333],\n",
      "        [-0.8824, -0.1055,  0.0820, -0.5354, -0.7778, -0.1624, -0.9240,  0.0000],\n",
      "        [ 0.0000,  0.3769, -0.3443, -0.2929, -0.6028,  0.2846,  0.8873, -0.6000]])\n",
      "tensor([[0.],\n",
      "        [1.],\n",
      "        [0.],\n",
      "        [1.],\n",
      "        [0.]])\n"
     ]
    }
   ],
   "source": [
    "#Evaluation\n",
    "import numpy as np\n",
    "xy = np.loadtxt('data-03-diabetes.csv', delimiter = ',', dtype = np.float32)\n",
    "x_data = xy[:, 0:-1]\n",
    "y_data = xy[:, [-1]]\n",
    "x_train = torch.FloatTensor(x_data)\n",
    "y_train = torch.FloatTensor(y_data)\n",
    "\n",
    "print(x_train[0:5])\n",
    "print(y_train[0:5])"
   ]
  },
  {
   "cell_type": "code",
   "execution_count": 42,
   "metadata": {},
   "outputs": [
    {
     "name": "stdout",
     "output_type": "stream",
     "text": [
      "Epoch    0 / 100 Cost: 0.693148\n",
      "Epoch   10 / 100 Cost: 0.572727\n",
      "Epoch   20 / 100 Cost: 0.539493\n",
      "Epoch   30 / 100 Cost: 0.519708\n",
      "Epoch   40 / 100 Cost: 0.507066\n",
      "Epoch   50 / 100 Cost: 0.498539\n",
      "Epoch   60 / 100 Cost: 0.492549\n",
      "Epoch   70 / 100 Cost: 0.488208\n",
      "Epoch   80 / 100 Cost: 0.484985\n",
      "Epoch   90 / 100 Cost: 0.482543\n",
      "Epoch  100 / 100 Cost: 0.480661\n"
     ]
    }
   ],
   "source": [
    "W = torch.zeros((8, 1), requires_grad = True)\n",
    "b = torch.zeros(1, requires_grad = True)\n",
    "\n",
    "optimizer = optim.SGD([W, b], lr = 1)\n",
    "\n",
    "nb_epochs = 100\n",
    "for epoch in range(nb_epochs + 1):\n",
    "    hypothesis = torch.sigmoid(x_train.matmul(W) + b)\n",
    "    cost = -(y_train * torch.log(hypothesis) + (1-y_train) * torch.log(1 - hypothesis)).mean()\n",
    "    \n",
    "    optimizer.zero_grad()\n",
    "    cost.backward()\n",
    "    optimizer.step()\n",
    "    \n",
    "    if epoch % 10 == 0:\n",
    "        print('Epoch {:4d} / {} Cost: {:.6f}'.format(\n",
    "        epoch, nb_epochs, cost.item()))"
   ]
  },
  {
   "cell_type": "code",
   "execution_count": 43,
   "metadata": {},
   "outputs": [
    {
     "name": "stdout",
     "output_type": "stream",
     "text": [
      "Epoch    0 / 100 Cost: 0.693147\n",
      "Epoch   10 / 100 Cost: 0.572727\n",
      "Epoch   20 / 100 Cost: 0.539494\n",
      "Epoch   30 / 100 Cost: 0.519708\n",
      "Epoch   40 / 100 Cost: 0.507065\n",
      "Epoch   50 / 100 Cost: 0.498539\n",
      "Epoch   60 / 100 Cost: 0.492549\n",
      "Epoch   70 / 100 Cost: 0.488208\n",
      "Epoch   80 / 100 Cost: 0.484985\n",
      "Epoch   90 / 100 Cost: 0.482543\n",
      "Epoch  100 / 100 Cost: 0.480661\n"
     ]
    }
   ],
   "source": [
    "W = torch.zeros((8,1), requires_grad = True)\n",
    "b = torch.zeros(1, requires_grad = True)\n",
    "optimizer = optim.SGD([W,b], lr = 1)\n",
    "\n",
    "nb_epochs = 100\n",
    "for epoch in range(nb_epochs + 1):\n",
    "    hypothesis = torch.sigmoid(x_train.matmul(W) + b)\n",
    "    cost = F.binary_cross_entropy(hypothesis, y_train)\n",
    "    \n",
    "    optimizer.zero_grad()\n",
    "    cost.backward()\n",
    "    optimizer.step()\n",
    "    \n",
    "    if epoch % 10 == 0:\n",
    "        print('Epoch {:4d} / {} Cost: {:.6f}'.format(\n",
    "        epoch, nb_epochs, cost.item()))"
   ]
  },
  {
   "cell_type": "code",
   "execution_count": 50,
   "metadata": {},
   "outputs": [
    {
     "name": "stdout",
     "output_type": "stream",
     "text": [
      "tensor([[0.4103],\n",
      "        [0.9242],\n",
      "        [0.2300],\n",
      "        [0.9411],\n",
      "        [0.1772]], grad_fn=<SliceBackward>)\n",
      "tensor([[0.],\n",
      "        [1.],\n",
      "        [0.],\n",
      "        [1.],\n",
      "        [0.]])\n",
      "tensor([[0.],\n",
      "        [1.],\n",
      "        [0.],\n",
      "        [1.],\n",
      "        [0.]])\n",
      "tensor([[1.],\n",
      "        [1.],\n",
      "        [1.],\n",
      "        [1.],\n",
      "        [1.]])\n",
      "The model has an accuracy of 76.68% for the training set.\n"
     ]
    }
   ],
   "source": [
    "hypothesis = torch.sigmoid(x_train.matmul(W) + b)\n",
    "print(hypothesis[:5])\n",
    "\n",
    "prediction = hypothesis >= torch.FloatTensor([0.5])\n",
    "print(prediction.float()[:5])\n",
    "print(y_train[:5])\n",
    "\n",
    "correct_prediction = prediction.float() == y_train\n",
    "print(correct_prediction.float()[:5])\n",
    "\n",
    "accuracy = correct_prediction.sum().item() / len(correct_prediction)\n",
    "print('The model has an accuracy of {:2.2f}% for the training set.'.format(accuracy * 100))"
   ]
  },
  {
   "cell_type": "code",
   "execution_count": 51,
   "metadata": {},
   "outputs": [
    {
     "name": "stdout",
     "output_type": "stream",
     "text": [
      "Epoch    0 / 100 Cost: 0.803927 Accuracy 34.52%\n",
      "Epoch   10 / 100 Cost: 0.570361 Accuracy 67.19%\n",
      "Epoch   20 / 100 Cost: 0.538137 Accuracy 72.60%\n",
      "Epoch   30 / 100 Cost: 0.518806 Accuracy 75.89%\n",
      "Epoch   40 / 100 Cost: 0.506408 Accuracy 77.08%\n",
      "Epoch   50 / 100 Cost: 0.498033 Accuracy 77.21%\n",
      "Epoch   60 / 100 Cost: 0.492148 Accuracy 77.73%\n",
      "Epoch   70 / 100 Cost: 0.487886 Accuracy 77.34%\n",
      "Epoch   80 / 100 Cost: 0.484723 Accuracy 76.55%\n",
      "Epoch   90 / 100 Cost: 0.482329 Accuracy 76.68%\n",
      "Epoch  100 / 100 Cost: 0.480485 Accuracy 76.81%\n"
     ]
    }
   ],
   "source": [
    "class BinaryClassifier(nn.Module):\n",
    "    def __init__(self):\n",
    "        super().__init__()\n",
    "        self.linear = nn.Linear(8, 1)\n",
    "        self.sigmoid = nn.Sigmoid()\n",
    "        \n",
    "    def forward(self, x):\n",
    "        return self.sigmoid(self.linear(x))\n",
    "\n",
    "model = BinaryClassifier()\n",
    "\n",
    "optimizer = optim.SGD(model.parameters(), lr = 1)\n",
    "\n",
    "nb_epochs = 100\n",
    "for epoch in range(nb_epochs + 1):\n",
    "    hypothesis = model(x_train)\n",
    "    cost = F.binary_cross_entropy(hypothesis, y_train)\n",
    "    \n",
    "    optimizer.zero_grad()\n",
    "    cost.backward()\n",
    "    optimizer.step()\n",
    "    \n",
    "    if epoch % 10 == 0:\n",
    "        prediction = hypothesis >= torch.FloatTensor([0.5])\n",
    "        correct_prediction = prediction.float() == y_train\n",
    "        accuracy = correct_prediction.sum().item() / len(correct_prediction)\n",
    "        print('Epoch {:4d} / {} Cost: {:.6f} Accuracy {:2.2f}%'.format(\n",
    "        epoch, nb_epochs, cost.item(), accuracy * 100))"
   ]
  },
  {
   "cell_type": "code",
   "execution_count": null,
   "metadata": {},
   "outputs": [],
   "source": []
  }
 ],
 "metadata": {
  "kernelspec": {
   "display_name": "Python 3",
   "language": "python",
   "name": "python3"
  },
  "language_info": {
   "codemirror_mode": {
    "name": "ipython",
    "version": 3
   },
   "file_extension": ".py",
   "mimetype": "text/x-python",
   "name": "python",
   "nbconvert_exporter": "python",
   "pygments_lexer": "ipython3",
   "version": "3.7.5"
  }
 },
 "nbformat": 4,
 "nbformat_minor": 2
}
